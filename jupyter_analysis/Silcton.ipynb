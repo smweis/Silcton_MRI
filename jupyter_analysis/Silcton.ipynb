{
 "cells": [
  {
   "cell_type": "markdown",
   "metadata": {
    "slideshow": {
     "slide_type": "slide"
    }
   },
   "source": [
    "# Silcton MRI Processing and Analyses\n",
    "\n",
    "Data, info on Virtual Silcton, analysis plan can all be found here: https://osf.io/ea99d/"
   ]
  },
  {
   "cell_type": "code",
   "execution_count": 1,
   "metadata": {
    "code_folding": [],
    "slideshow": {
     "slide_type": "slide"
    }
   },
   "outputs": [],
   "source": [
    "#import packages\n",
    "\n",
    "import numpy as np\n",
    "import matplotlib.pyplot as plt\n",
    "import pandas as pd\n",
    "import scipy\n",
    "from cycler import cycler\n",
    "import seaborn as sns\n",
    "# For statistics. Requires statsmodels 5.0 or more\n",
    "from statsmodels.formula.api import ols\n",
    "\n"
   ]
  },
  {
   "cell_type": "code",
   "execution_count": 2,
   "metadata": {
    "code_folding": [],
    "run_control": {
     "marked": true
    },
    "slideshow": {
     "slide_type": "slide"
    }
   },
   "outputs": [],
   "source": [
    "def zscore(column, data):\n",
    "    #Calculate and return the z-score value of a variable from a DataFrame\n",
    "    zscoredVariable = (data[column] - data[column].mean())/data[column].std(ddof=0)\n",
    "    return zscoredVariable"
   ]
  },
  {
   "cell_type": "code",
   "execution_count": 3,
   "metadata": {
    "code_folding": [
     0
    ],
    "slideshow": {
     "slide_type": "subslide"
    }
   },
   "outputs": [],
   "source": [
    "def doAnova(dependentVar,data):\n",
    "    data = data[np.isfinite(data[dependentVar])]\n",
    "    grps = pd.unique(data.groups.values)\n",
    "    d_data = {grp:data[dependentVar][data.groups == grp] for grp in grps}\n",
    "    F, p = scipy.stats.f_oneway(d_data[1], d_data[2], d_data[3])\n",
    "    print('F = ',F,'p = ',p)"
   ]
  },
  {
   "cell_type": "code",
   "execution_count": 4,
   "metadata": {
    "code_folding": [
     0
    ],
    "slideshow": {
     "slide_type": "subslide"
    }
   },
   "outputs": [],
   "source": [
    "def stderror(dependentVar):\n",
    "    std = np.std(dependentVar)\n",
    "    n = len(dependentVar)\n",
    "    sem = std / np.sqrt(n)\n",
    "    \n",
    "    return sem"
   ]
  },
  {
   "cell_type": "code",
   "execution_count": 5,
   "metadata": {
    "code_folding": [
     0
    ],
    "slideshow": {
     "slide_type": "subslide"
    }
   },
   "outputs": [],
   "source": [
    "def saveTheFig(name1,name2,f):\n",
    "    \n",
    "    figName = 'scatter'+name1.capitalize()+name2.capitalize()+'.pdf'\n",
    "    \n",
    "    prompt = 'save figure with ' + name1.capitalize() + name2.capitalize() + '? y/n '\n",
    "    \n",
    "    a = input(prompt)\n",
    "\n",
    "    if a.lower() == 'y':\n",
    "        f.savefig(figName, format='pdf',transparent=True,)\n"
   ]
  },
  {
   "cell_type": "code",
   "execution_count": 6,
   "metadata": {
    "code_folding": [],
    "slideshow": {
     "slide_type": "subslide"
    }
   },
   "outputs": [],
   "source": [
    "def formatPlot(x,y,plot,linecolor,ax1):\n",
    "    ax1.set_xlabel(x.name,fontsize=20)\n",
    "    ax1.set_ylabel(y.name,fontsize=20)\n",
    "    ax1.tick_params(axis='both', which='major', labelsize=14)\n",
    "    fit = np.polyfit(x, y, deg=1) # calculate regression line\n",
    "    ax1.plot(x, fit[0] * x + fit[1], color=linecolor,label='',linewidth=2) # print lines as black\n",
    "    slope, intercept, r_value, p_value, std_err = scipy.stats.linregress(x, y)\n",
    "    pearsonR = 'r = ' + \"{0:.2f}\".format(r_value)\n",
    "    locationOffset = (min(y) - max(y)) / 10\n",
    "    location = (max(x)*fit[0] + fit[1]) + locationOffset\n",
    "    ax1.text(max(x),location,pearsonR,horizontalalignment='right',fontsize=14,color=linecolor)\n",
    "    ax1.legend(edgecolor='black',fontsize=14)\n",
    "    fig = plt.gcf()\n",
    "    fig.set_size_inches(10.5, 10.5)\n",
    "\n"
   ]
  },
  {
   "cell_type": "code",
   "execution_count": 7,
   "metadata": {
    "code_folding": [
     0
    ],
    "run_control": {
     "marked": true
    },
    "slideshow": {
     "slide_type": "slide"
    }
   },
   "outputs": [],
   "source": [
    "def makeNavGroupPlot(xname,yname,d,savefig=False):\n",
    "\n",
    "    \"\"\"Will make a formatted scatter plot colored by all three groups\"\"\"\n",
    "    \n",
    "    x = normedData.loc[:,xname]\n",
    "    y = normedData.loc[:,yname]\n",
    "    f, ax1 = plt.subplots(1)\n",
    "    group_dict = {1:['#00B050','Integrators'],2:['#E46C0A','Non-Integrators'],3:['#4BACC6','Imprecise Navigators']}\n",
    "\n",
    "\n",
    "\n",
    "    for kind in group_dict:\n",
    "        d = normedData[normedData.groups==kind]\n",
    "        plt.scatter(d.loc[:,xname], d.loc[:,yname],\n",
    "            c = group_dict[kind][0],label=group_dict[kind][1],s=60)\n",
    "        plt.hlines(np.mean(d.loc[:,yname]), np.mean(d.loc[:,xname]) - stderror(d.loc[:,xname]), np.mean(d.loc[:,xname]) + stderror(d.loc[:,xname]), linestyle='dashed')\n",
    "        plt.vlines(np.mean(d.loc[:,xname]), np.mean(d.loc[:,yname]) - stderror(d.loc[:,yname]), np.mean(d.loc[:,yname]) + stderror(d.loc[:,yname]), linestyle='dashed')\n",
    "        plt.plot(np.mean(d.loc[:,xname]), np.mean(d.loc[:,yname]), marker='o', markersize=20\n",
    "                 , color=group_dict[kind][0], markeredgecolor='black')\n",
    "        formatPlot(d.loc[:,xname],d.loc[:,yname],f,group_dict[kind][0],ax1)\n",
    "\n",
    "    slope, intercept, r_value, p_value, std_err = scipy.stats.linregress(x, y)\n",
    "    pearsonR = 'r = ' + \"{0:.2f}\".format(r_value)\n",
    "    \n",
    "    fit = np.polyfit(x, y, deg=1) # calculate regression line\n",
    "    ax1.plot(x, fit[0] * x + fit[1], color='gray',label='Total',linewidth=2) # print lines as black\n",
    "\n",
    "    locationOffset = (max(y) - min(y)) / 20\n",
    "    location = (max(x)*fit[0] + fit[1]) + locationOffset\n",
    "    ax1.text(max(x),location,pearsonR,horizontalalignment='right', fontsize=14)\n",
    "\n",
    "    if savefig:\n",
    "        saveTheFig(x.name,y.name,f)\n",
    "\n"
   ]
  },
  {
   "cell_type": "markdown",
   "metadata": {
    "slideshow": {
     "slide_type": "slide"
    }
   },
   "source": [
    "## Import and process data"
   ]
  },
  {
   "cell_type": "code",
   "execution_count": 39,
   "metadata": {
    "code_folding": [],
    "slideshow": {
     "slide_type": "subslide"
    }
   },
   "outputs": [
    {
     "ename": "KeyError",
     "evalue": "'pointBetween'",
     "output_type": "error",
     "traceback": [
      "\u001b[1;31m---------------------------------------------------------------------------\u001b[0m",
      "\u001b[1;31mKeyError\u001b[0m                                  Traceback (most recent call last)",
      "\u001b[1;32m~\\AppData\\Local\\Continuum\\anaconda3\\lib\\site-packages\\pandas\\core\\indexes\\base.py\u001b[0m in \u001b[0;36mget_loc\u001b[1;34m(self, key, method, tolerance)\u001b[0m\n\u001b[0;32m   2524\u001b[0m             \u001b[1;32mtry\u001b[0m\u001b[1;33m:\u001b[0m\u001b[1;33m\u001b[0m\u001b[0m\n\u001b[1;32m-> 2525\u001b[1;33m                 \u001b[1;32mreturn\u001b[0m \u001b[0mself\u001b[0m\u001b[1;33m.\u001b[0m\u001b[0m_engine\u001b[0m\u001b[1;33m.\u001b[0m\u001b[0mget_loc\u001b[0m\u001b[1;33m(\u001b[0m\u001b[0mkey\u001b[0m\u001b[1;33m)\u001b[0m\u001b[1;33m\u001b[0m\u001b[0m\n\u001b[0m\u001b[0;32m   2526\u001b[0m             \u001b[1;32mexcept\u001b[0m \u001b[0mKeyError\u001b[0m\u001b[1;33m:\u001b[0m\u001b[1;33m\u001b[0m\u001b[0m\n",
      "\u001b[1;32mpandas/_libs/index.pyx\u001b[0m in \u001b[0;36mpandas._libs.index.IndexEngine.get_loc\u001b[1;34m()\u001b[0m\n",
      "\u001b[1;32mpandas/_libs/index.pyx\u001b[0m in \u001b[0;36mpandas._libs.index.IndexEngine.get_loc\u001b[1;34m()\u001b[0m\n",
      "\u001b[1;32mpandas/_libs/hashtable_class_helper.pxi\u001b[0m in \u001b[0;36mpandas._libs.hashtable.PyObjectHashTable.get_item\u001b[1;34m()\u001b[0m\n",
      "\u001b[1;32mpandas/_libs/hashtable_class_helper.pxi\u001b[0m in \u001b[0;36mpandas._libs.hashtable.PyObjectHashTable.get_item\u001b[1;34m()\u001b[0m\n",
      "\u001b[1;31mKeyError\u001b[0m: 'pointBetween'",
      "\nDuring handling of the above exception, another exception occurred:\n",
      "\u001b[1;31mKeyError\u001b[0m                                  Traceback (most recent call last)",
      "\u001b[1;32m<ipython-input-39-385c639e3c64>\u001b[0m in \u001b[0;36m<module>\u001b[1;34m()\u001b[0m\n\u001b[0;32m     29\u001b[0m \u001b[1;33m\u001b[0m\u001b[0m\n\u001b[0;32m     30\u001b[0m \u001b[1;31m#reverse the pointing ones to be higher = good score\u001b[0m\u001b[1;33m\u001b[0m\u001b[1;33m\u001b[0m\u001b[0m\n\u001b[1;32m---> 31\u001b[1;33m \u001b[0mdata\u001b[0m\u001b[1;33m[\u001b[0m\u001b[1;34m'pointBetween'\u001b[0m\u001b[1;33m]\u001b[0m \u001b[1;33m=\u001b[0m \u001b[1;33m-\u001b[0m\u001b[1;36m1\u001b[0m\u001b[1;33m*\u001b[0m\u001b[1;33m(\u001b[0m\u001b[0mdata\u001b[0m\u001b[1;33m[\u001b[0m\u001b[1;34m'pointBetween'\u001b[0m\u001b[1;33m]\u001b[0m\u001b[1;33m)\u001b[0m\u001b[1;33m\u001b[0m\u001b[0m\n\u001b[0m\u001b[0;32m     32\u001b[0m \u001b[0mdata\u001b[0m\u001b[1;33m[\u001b[0m\u001b[1;34m'pointWithin'\u001b[0m\u001b[1;33m]\u001b[0m \u001b[1;33m=\u001b[0m \u001b[1;33m-\u001b[0m\u001b[1;36m1\u001b[0m\u001b[1;33m*\u001b[0m\u001b[1;33m(\u001b[0m\u001b[0mdata\u001b[0m\u001b[1;33m[\u001b[0m\u001b[1;34m'pointWithin'\u001b[0m\u001b[1;33m]\u001b[0m\u001b[1;33m)\u001b[0m\u001b[1;33m\u001b[0m\u001b[0m\n\u001b[0;32m     33\u001b[0m \u001b[0mdata\u001b[0m\u001b[1;33m[\u001b[0m\u001b[1;34m'pointTotal'\u001b[0m\u001b[1;33m]\u001b[0m \u001b[1;33m=\u001b[0m \u001b[1;33m-\u001b[0m\u001b[1;36m1\u001b[0m\u001b[1;33m*\u001b[0m\u001b[1;33m(\u001b[0m\u001b[0mdata\u001b[0m\u001b[1;33m[\u001b[0m\u001b[1;34m'pointTotal'\u001b[0m\u001b[1;33m]\u001b[0m\u001b[1;33m)\u001b[0m\u001b[1;33m\u001b[0m\u001b[0m\n",
      "\u001b[1;32m~\\AppData\\Local\\Continuum\\anaconda3\\lib\\site-packages\\pandas\\core\\frame.py\u001b[0m in \u001b[0;36m__getitem__\u001b[1;34m(self, key)\u001b[0m\n\u001b[0;32m   2137\u001b[0m             \u001b[1;32mreturn\u001b[0m \u001b[0mself\u001b[0m\u001b[1;33m.\u001b[0m\u001b[0m_getitem_multilevel\u001b[0m\u001b[1;33m(\u001b[0m\u001b[0mkey\u001b[0m\u001b[1;33m)\u001b[0m\u001b[1;33m\u001b[0m\u001b[0m\n\u001b[0;32m   2138\u001b[0m         \u001b[1;32melse\u001b[0m\u001b[1;33m:\u001b[0m\u001b[1;33m\u001b[0m\u001b[0m\n\u001b[1;32m-> 2139\u001b[1;33m             \u001b[1;32mreturn\u001b[0m \u001b[0mself\u001b[0m\u001b[1;33m.\u001b[0m\u001b[0m_getitem_column\u001b[0m\u001b[1;33m(\u001b[0m\u001b[0mkey\u001b[0m\u001b[1;33m)\u001b[0m\u001b[1;33m\u001b[0m\u001b[0m\n\u001b[0m\u001b[0;32m   2140\u001b[0m \u001b[1;33m\u001b[0m\u001b[0m\n\u001b[0;32m   2141\u001b[0m     \u001b[1;32mdef\u001b[0m \u001b[0m_getitem_column\u001b[0m\u001b[1;33m(\u001b[0m\u001b[0mself\u001b[0m\u001b[1;33m,\u001b[0m \u001b[0mkey\u001b[0m\u001b[1;33m)\u001b[0m\u001b[1;33m:\u001b[0m\u001b[1;33m\u001b[0m\u001b[0m\n",
      "\u001b[1;32m~\\AppData\\Local\\Continuum\\anaconda3\\lib\\site-packages\\pandas\\core\\frame.py\u001b[0m in \u001b[0;36m_getitem_column\u001b[1;34m(self, key)\u001b[0m\n\u001b[0;32m   2144\u001b[0m         \u001b[1;31m# get column\u001b[0m\u001b[1;33m\u001b[0m\u001b[1;33m\u001b[0m\u001b[0m\n\u001b[0;32m   2145\u001b[0m         \u001b[1;32mif\u001b[0m \u001b[0mself\u001b[0m\u001b[1;33m.\u001b[0m\u001b[0mcolumns\u001b[0m\u001b[1;33m.\u001b[0m\u001b[0mis_unique\u001b[0m\u001b[1;33m:\u001b[0m\u001b[1;33m\u001b[0m\u001b[0m\n\u001b[1;32m-> 2146\u001b[1;33m             \u001b[1;32mreturn\u001b[0m \u001b[0mself\u001b[0m\u001b[1;33m.\u001b[0m\u001b[0m_get_item_cache\u001b[0m\u001b[1;33m(\u001b[0m\u001b[0mkey\u001b[0m\u001b[1;33m)\u001b[0m\u001b[1;33m\u001b[0m\u001b[0m\n\u001b[0m\u001b[0;32m   2147\u001b[0m \u001b[1;33m\u001b[0m\u001b[0m\n\u001b[0;32m   2148\u001b[0m         \u001b[1;31m# duplicate columns & possible reduce dimensionality\u001b[0m\u001b[1;33m\u001b[0m\u001b[1;33m\u001b[0m\u001b[0m\n",
      "\u001b[1;32m~\\AppData\\Local\\Continuum\\anaconda3\\lib\\site-packages\\pandas\\core\\generic.py\u001b[0m in \u001b[0;36m_get_item_cache\u001b[1;34m(self, item)\u001b[0m\n\u001b[0;32m   1840\u001b[0m         \u001b[0mres\u001b[0m \u001b[1;33m=\u001b[0m \u001b[0mcache\u001b[0m\u001b[1;33m.\u001b[0m\u001b[0mget\u001b[0m\u001b[1;33m(\u001b[0m\u001b[0mitem\u001b[0m\u001b[1;33m)\u001b[0m\u001b[1;33m\u001b[0m\u001b[0m\n\u001b[0;32m   1841\u001b[0m         \u001b[1;32mif\u001b[0m \u001b[0mres\u001b[0m \u001b[1;32mis\u001b[0m \u001b[1;32mNone\u001b[0m\u001b[1;33m:\u001b[0m\u001b[1;33m\u001b[0m\u001b[0m\n\u001b[1;32m-> 1842\u001b[1;33m             \u001b[0mvalues\u001b[0m \u001b[1;33m=\u001b[0m \u001b[0mself\u001b[0m\u001b[1;33m.\u001b[0m\u001b[0m_data\u001b[0m\u001b[1;33m.\u001b[0m\u001b[0mget\u001b[0m\u001b[1;33m(\u001b[0m\u001b[0mitem\u001b[0m\u001b[1;33m)\u001b[0m\u001b[1;33m\u001b[0m\u001b[0m\n\u001b[0m\u001b[0;32m   1843\u001b[0m             \u001b[0mres\u001b[0m \u001b[1;33m=\u001b[0m \u001b[0mself\u001b[0m\u001b[1;33m.\u001b[0m\u001b[0m_box_item_values\u001b[0m\u001b[1;33m(\u001b[0m\u001b[0mitem\u001b[0m\u001b[1;33m,\u001b[0m \u001b[0mvalues\u001b[0m\u001b[1;33m)\u001b[0m\u001b[1;33m\u001b[0m\u001b[0m\n\u001b[0;32m   1844\u001b[0m             \u001b[0mcache\u001b[0m\u001b[1;33m[\u001b[0m\u001b[0mitem\u001b[0m\u001b[1;33m]\u001b[0m \u001b[1;33m=\u001b[0m \u001b[0mres\u001b[0m\u001b[1;33m\u001b[0m\u001b[0m\n",
      "\u001b[1;32m~\\AppData\\Local\\Continuum\\anaconda3\\lib\\site-packages\\pandas\\core\\internals.py\u001b[0m in \u001b[0;36mget\u001b[1;34m(self, item, fastpath)\u001b[0m\n\u001b[0;32m   3841\u001b[0m \u001b[1;33m\u001b[0m\u001b[0m\n\u001b[0;32m   3842\u001b[0m             \u001b[1;32mif\u001b[0m \u001b[1;32mnot\u001b[0m \u001b[0misna\u001b[0m\u001b[1;33m(\u001b[0m\u001b[0mitem\u001b[0m\u001b[1;33m)\u001b[0m\u001b[1;33m:\u001b[0m\u001b[1;33m\u001b[0m\u001b[0m\n\u001b[1;32m-> 3843\u001b[1;33m                 \u001b[0mloc\u001b[0m \u001b[1;33m=\u001b[0m \u001b[0mself\u001b[0m\u001b[1;33m.\u001b[0m\u001b[0mitems\u001b[0m\u001b[1;33m.\u001b[0m\u001b[0mget_loc\u001b[0m\u001b[1;33m(\u001b[0m\u001b[0mitem\u001b[0m\u001b[1;33m)\u001b[0m\u001b[1;33m\u001b[0m\u001b[0m\n\u001b[0m\u001b[0;32m   3844\u001b[0m             \u001b[1;32melse\u001b[0m\u001b[1;33m:\u001b[0m\u001b[1;33m\u001b[0m\u001b[0m\n\u001b[0;32m   3845\u001b[0m                 \u001b[0mindexer\u001b[0m \u001b[1;33m=\u001b[0m \u001b[0mnp\u001b[0m\u001b[1;33m.\u001b[0m\u001b[0marange\u001b[0m\u001b[1;33m(\u001b[0m\u001b[0mlen\u001b[0m\u001b[1;33m(\u001b[0m\u001b[0mself\u001b[0m\u001b[1;33m.\u001b[0m\u001b[0mitems\u001b[0m\u001b[1;33m)\u001b[0m\u001b[1;33m)\u001b[0m\u001b[1;33m[\u001b[0m\u001b[0misna\u001b[0m\u001b[1;33m(\u001b[0m\u001b[0mself\u001b[0m\u001b[1;33m.\u001b[0m\u001b[0mitems\u001b[0m\u001b[1;33m)\u001b[0m\u001b[1;33m]\u001b[0m\u001b[1;33m\u001b[0m\u001b[0m\n",
      "\u001b[1;32m~\\AppData\\Local\\Continuum\\anaconda3\\lib\\site-packages\\pandas\\core\\indexes\\base.py\u001b[0m in \u001b[0;36mget_loc\u001b[1;34m(self, key, method, tolerance)\u001b[0m\n\u001b[0;32m   2525\u001b[0m                 \u001b[1;32mreturn\u001b[0m \u001b[0mself\u001b[0m\u001b[1;33m.\u001b[0m\u001b[0m_engine\u001b[0m\u001b[1;33m.\u001b[0m\u001b[0mget_loc\u001b[0m\u001b[1;33m(\u001b[0m\u001b[0mkey\u001b[0m\u001b[1;33m)\u001b[0m\u001b[1;33m\u001b[0m\u001b[0m\n\u001b[0;32m   2526\u001b[0m             \u001b[1;32mexcept\u001b[0m \u001b[0mKeyError\u001b[0m\u001b[1;33m:\u001b[0m\u001b[1;33m\u001b[0m\u001b[0m\n\u001b[1;32m-> 2527\u001b[1;33m                 \u001b[1;32mreturn\u001b[0m \u001b[0mself\u001b[0m\u001b[1;33m.\u001b[0m\u001b[0m_engine\u001b[0m\u001b[1;33m.\u001b[0m\u001b[0mget_loc\u001b[0m\u001b[1;33m(\u001b[0m\u001b[0mself\u001b[0m\u001b[1;33m.\u001b[0m\u001b[0m_maybe_cast_indexer\u001b[0m\u001b[1;33m(\u001b[0m\u001b[0mkey\u001b[0m\u001b[1;33m)\u001b[0m\u001b[1;33m)\u001b[0m\u001b[1;33m\u001b[0m\u001b[0m\n\u001b[0m\u001b[0;32m   2528\u001b[0m \u001b[1;33m\u001b[0m\u001b[0m\n\u001b[0;32m   2529\u001b[0m         \u001b[0mindexer\u001b[0m \u001b[1;33m=\u001b[0m \u001b[0mself\u001b[0m\u001b[1;33m.\u001b[0m\u001b[0mget_indexer\u001b[0m\u001b[1;33m(\u001b[0m\u001b[1;33m[\u001b[0m\u001b[0mkey\u001b[0m\u001b[1;33m]\u001b[0m\u001b[1;33m,\u001b[0m \u001b[0mmethod\u001b[0m\u001b[1;33m=\u001b[0m\u001b[0mmethod\u001b[0m\u001b[1;33m,\u001b[0m \u001b[0mtolerance\u001b[0m\u001b[1;33m=\u001b[0m\u001b[0mtolerance\u001b[0m\u001b[1;33m)\u001b[0m\u001b[1;33m\u001b[0m\u001b[0m\n",
      "\u001b[1;32mpandas/_libs/index.pyx\u001b[0m in \u001b[0;36mpandas._libs.index.IndexEngine.get_loc\u001b[1;34m()\u001b[0m\n",
      "\u001b[1;32mpandas/_libs/index.pyx\u001b[0m in \u001b[0;36mpandas._libs.index.IndexEngine.get_loc\u001b[1;34m()\u001b[0m\n",
      "\u001b[1;32mpandas/_libs/hashtable_class_helper.pxi\u001b[0m in \u001b[0;36mpandas._libs.hashtable.PyObjectHashTable.get_item\u001b[1;34m()\u001b[0m\n",
      "\u001b[1;32mpandas/_libs/hashtable_class_helper.pxi\u001b[0m in \u001b[0;36mpandas._libs.hashtable.PyObjectHashTable.get_item\u001b[1;34m()\u001b[0m\n",
      "\u001b[1;31mKeyError\u001b[0m: 'pointBetween'"
     ]
    }
   ],
   "source": [
    "#import and process data - including Z-scoring all columns\n",
    "\n",
    "data = pd.read_csv('https://raw.githubusercontent.com/smweis/Silcton_MRI/master/public_data/DataAnalysisWith90Participants_Jupyter.csv')\n",
    "#CHANGE ME TO 90 WHEN THE REST OF THE DATA IS AVAILABLE\n",
    "data = data.iloc[0:86,:]\n",
    "\n",
    "\n",
    "#variables\n",
    "#data = pd.DataFrame()\n",
    "\n",
    "#exclude outliers from total hippocampal volume (both high and low outliers)\n",
    "\n",
    "#data = data[data['ASHS_right_total_hippo'] >  data['ASHS_right_total_hippo'].mean() - data['ASHS_right_total_hippo'].std()*3]\n",
    "#data = data[data['ASHS_right_total_hippo'] <  data['ASHS_right_total_hippo'].mean() + data['ASHS_right_total_hippo'].std()*3]\n",
    "\n",
    "\n",
    "#Normalize all the variables\n",
    "\n",
    "for i in data:\n",
    "    if i in ['Batch','ID','Education']:\n",
    "        continue\n",
    "    elif data[i].dtype != object:\n",
    "        data[i] = zscore(i,data)\n",
    "    else:    \n",
    "        continue\n",
    "        \n",
    "\n",
    "\n",
    "\n",
    "#reverse the pointing ones to be higher = good score\n",
    "data['pointBetween'] = -1*(data['pointBetween'])\n",
    "data['pointWithin'] = -1*(data['pointWithin'])\n",
    "data['pointTotal'] = -1*(data['pointTotal'])\n",
    "\n",
    "\n",
    "#check any histograms\n",
    "data['lhc_bodytail'].hist()\n",
    "#normedData['ashs_rhc'].hist()\n",
    "\n",
    "\n",
    "\n",
    "data.head()"
   ]
  },
  {
   "cell_type": "code",
   "execution_count": null,
   "metadata": {},
   "outputs": [],
   "source": []
  },
  {
   "cell_type": "code",
   "execution_count": 22,
   "metadata": {},
   "outputs": [
    {
     "data": {
      "text/plain": [
       "Female    52\n",
       "Male      34\n",
       "Name: gender, dtype: int64"
      ]
     },
     "execution_count": 22,
     "metadata": {},
     "output_type": "execute_result"
    }
   ],
   "source": [
    "normedData['gender'].value_counts()\n",
    "data.Race.value_counts()"
   ]
  },
  {
   "cell_type": "code",
   "execution_count": 34,
   "metadata": {},
   "outputs": [
    {
     "data": {
      "text/html": [
       "<div>\n",
       "<style scoped>\n",
       "    .dataframe tbody tr th:only-of-type {\n",
       "        vertical-align: middle;\n",
       "    }\n",
       "\n",
       "    .dataframe tbody tr th {\n",
       "        vertical-align: top;\n",
       "    }\n",
       "\n",
       "    .dataframe thead th {\n",
       "        text-align: right;\n",
       "    }\n",
       "</style>\n",
       "<table border=\"1\" class=\"dataframe\">\n",
       "  <thead>\n",
       "    <tr style=\"text-align: right;\">\n",
       "      <th></th>\n",
       "      <th>ID</th>\n",
       "      <th>Batch</th>\n",
       "      <th>Age</th>\n",
       "      <th>Education</th>\n",
       "      <th>English_First_Lang</th>\n",
       "      <th>Right_Handed</th>\n",
       "      <th>Gender</th>\n",
       "      <th>Race</th>\n",
       "      <th>WRAT</th>\n",
       "      <th>MRT</th>\n",
       "      <th>...</th>\n",
       "      <th>ASHS_left_ColSul</th>\n",
       "      <th>ASHS_left_ERC</th>\n",
       "      <th>ASHS_left_Meninges_PHC</th>\n",
       "      <th>ASHS_left_MISC</th>\n",
       "      <th>ASHS_left_OTSul</th>\n",
       "      <th>ASHS_left_PHC</th>\n",
       "      <th>ASHS_left_Posterior_hippocampus</th>\n",
       "      <th>ASHS_right_total_hippo</th>\n",
       "      <th>ASHS_left_total_hippo</th>\n",
       "      <th>ASHS_total_hippo</th>\n",
       "    </tr>\n",
       "  </thead>\n",
       "  <tbody>\n",
       "    <tr>\n",
       "      <th>0</th>\n",
       "      <td>1002</td>\n",
       "      <td>1</td>\n",
       "      <td>0.953238</td>\n",
       "      <td>22</td>\n",
       "      <td>English</td>\n",
       "      <td>Right</td>\n",
       "      <td>Male</td>\n",
       "      <td>White</td>\n",
       "      <td>NaN</td>\n",
       "      <td>0.992920</td>\n",
       "      <td>...</td>\n",
       "      <td>-0.693648</td>\n",
       "      <td>-0.987027</td>\n",
       "      <td>0.814841</td>\n",
       "      <td>-0.271268</td>\n",
       "      <td>-1.001525</td>\n",
       "      <td>-1.312915</td>\n",
       "      <td>-0.416783</td>\n",
       "      <td>-0.852618</td>\n",
       "      <td>-0.588909</td>\n",
       "      <td>-0.739635</td>\n",
       "    </tr>\n",
       "    <tr>\n",
       "      <th>1</th>\n",
       "      <td>1003</td>\n",
       "      <td>1</td>\n",
       "      <td>-0.817902</td>\n",
       "      <td>15</td>\n",
       "      <td>English</td>\n",
       "      <td>Right</td>\n",
       "      <td>Female</td>\n",
       "      <td>Black</td>\n",
       "      <td>-1.215280</td>\n",
       "      <td>-1.783123</td>\n",
       "      <td>...</td>\n",
       "      <td>0.368212</td>\n",
       "      <td>-0.159557</td>\n",
       "      <td>-0.419625</td>\n",
       "      <td>-0.535286</td>\n",
       "      <td>-0.822559</td>\n",
       "      <td>1.433280</td>\n",
       "      <td>-1.261042</td>\n",
       "      <td>-0.214338</td>\n",
       "      <td>-0.131727</td>\n",
       "      <td>-0.177848</td>\n",
       "    </tr>\n",
       "    <tr>\n",
       "      <th>2</th>\n",
       "      <td>1004</td>\n",
       "      <td>1</td>\n",
       "      <td>-1.070922</td>\n",
       "      <td>15</td>\n",
       "      <td>English</td>\n",
       "      <td>Right</td>\n",
       "      <td>Male</td>\n",
       "      <td>Asian</td>\n",
       "      <td>0.730811</td>\n",
       "      <td>-0.006456</td>\n",
       "      <td>...</td>\n",
       "      <td>-1.008342</td>\n",
       "      <td>-0.875554</td>\n",
       "      <td>0.064373</td>\n",
       "      <td>-0.119598</td>\n",
       "      <td>-0.174871</td>\n",
       "      <td>0.533319</td>\n",
       "      <td>-1.712651</td>\n",
       "      <td>-1.258545</td>\n",
       "      <td>-1.291725</td>\n",
       "      <td>-1.301131</td>\n",
       "    </tr>\n",
       "    <tr>\n",
       "      <th>3</th>\n",
       "      <td>1005</td>\n",
       "      <td>1</td>\n",
       "      <td>-1.323942</td>\n",
       "      <td>13</td>\n",
       "      <td>English</td>\n",
       "      <td>Right</td>\n",
       "      <td>Female</td>\n",
       "      <td>Asian</td>\n",
       "      <td>1.055159</td>\n",
       "      <td>1.659170</td>\n",
       "      <td>...</td>\n",
       "      <td>0.760199</td>\n",
       "      <td>-0.783375</td>\n",
       "      <td>0.151384</td>\n",
       "      <td>0.554490</td>\n",
       "      <td>-0.538485</td>\n",
       "      <td>0.058931</td>\n",
       "      <td>-1.170249</td>\n",
       "      <td>-0.029675</td>\n",
       "      <td>-0.243966</td>\n",
       "      <td>-0.136493</td>\n",
       "    </tr>\n",
       "    <tr>\n",
       "      <th>4</th>\n",
       "      <td>1006</td>\n",
       "      <td>1</td>\n",
       "      <td>0.194178</td>\n",
       "      <td>14</td>\n",
       "      <td>English</td>\n",
       "      <td>Right</td>\n",
       "      <td>Male</td>\n",
       "      <td>Black</td>\n",
       "      <td>-0.566583</td>\n",
       "      <td>-1.116873</td>\n",
       "      <td>...</td>\n",
       "      <td>2.050259</td>\n",
       "      <td>1.028056</td>\n",
       "      <td>-0.561017</td>\n",
       "      <td>-0.293738</td>\n",
       "      <td>-0.052719</td>\n",
       "      <td>0.952633</td>\n",
       "      <td>0.013601</td>\n",
       "      <td>-0.585328</td>\n",
       "      <td>-0.388525</td>\n",
       "      <td>-0.499951</td>\n",
       "    </tr>\n",
       "  </tbody>\n",
       "</table>\n",
       "<p>5 rows × 61 columns</p>\n",
       "</div>"
      ],
      "text/plain": [
       "     ID  Batch       Age  Education English_First_Lang Right_Handed  Gender  \\\n",
       "0  1002      1  0.953238         22            English        Right    Male   \n",
       "1  1003      1 -0.817902         15            English        Right  Female   \n",
       "2  1004      1 -1.070922         15            English        Right    Male   \n",
       "3  1005      1 -1.323942         13            English        Right  Female   \n",
       "4  1006      1  0.194178         14            English        Right    Male   \n",
       "\n",
       "    Race      WRAT       MRT        ...         ASHS_left_ColSul  \\\n",
       "0  White       NaN  0.992920        ...                -0.693648   \n",
       "1  Black -1.215280 -1.783123        ...                 0.368212   \n",
       "2  Asian  0.730811 -0.006456        ...                -1.008342   \n",
       "3  Asian  1.055159  1.659170        ...                 0.760199   \n",
       "4  Black -0.566583 -1.116873        ...                 2.050259   \n",
       "\n",
       "   ASHS_left_ERC  ASHS_left_Meninges_PHC  ASHS_left_MISC  ASHS_left_OTSul  \\\n",
       "0      -0.987027                0.814841       -0.271268        -1.001525   \n",
       "1      -0.159557               -0.419625       -0.535286        -0.822559   \n",
       "2      -0.875554                0.064373       -0.119598        -0.174871   \n",
       "3      -0.783375                0.151384        0.554490        -0.538485   \n",
       "4       1.028056               -0.561017       -0.293738        -0.052719   \n",
       "\n",
       "   ASHS_left_PHC  ASHS_left_Posterior_hippocampus  ASHS_right_total_hippo  \\\n",
       "0      -1.312915                        -0.416783               -0.852618   \n",
       "1       1.433280                        -1.261042               -0.214338   \n",
       "2       0.533319                        -1.712651               -1.258545   \n",
       "3       0.058931                        -1.170249               -0.029675   \n",
       "4       0.952633                         0.013601               -0.585328   \n",
       "\n",
       "   ASHS_left_total_hippo  ASHS_total_hippo  \n",
       "0              -0.588909         -0.739635  \n",
       "1              -0.131727         -0.177848  \n",
       "2              -1.291725         -1.301131  \n",
       "3              -0.243966         -0.136493  \n",
       "4              -0.388525         -0.499951  \n",
       "\n",
       "[5 rows x 61 columns]"
      ]
     },
     "execution_count": 34,
     "metadata": {},
     "output_type": "execute_result"
    }
   ],
   "source": []
  },
  {
   "cell_type": "code",
   "execution_count": null,
   "metadata": {},
   "outputs": [],
   "source": [
    "makeNavGroupPlot('lhc_head','pointTotal',normedData)\n"
   ]
  },
  {
   "cell_type": "markdown",
   "metadata": {
    "slideshow": {
     "slide_type": "slide"
    }
   },
   "source": [
    "## Create scatterplots"
   ]
  },
  {
   "cell_type": "code",
   "execution_count": null,
   "metadata": {
    "slideshow": {
     "slide_type": "subslide"
    }
   },
   "outputs": [],
   "source": [
    "# Figures for iNav Poster\n",
    "\n",
    "makeNavGroupPlot('ashs_rhc','pointTotal',normedData)\n"
   ]
  },
  {
   "cell_type": "code",
   "execution_count": null,
   "metadata": {
    "slideshow": {
     "slide_type": "subslide"
    }
   },
   "outputs": [],
   "source": [
    "makeNavGroupPlot('ashs_post_rhc','pointTotal',normedData)\n"
   ]
  },
  {
   "cell_type": "code",
   "execution_count": null,
   "metadata": {
    "slideshow": {
     "slide_type": "subslide"
    }
   },
   "outputs": [],
   "source": [
    "makeNavGroupPlot('cortexVol','pointTotal',normedData)\n"
   ]
  },
  {
   "cell_type": "code",
   "execution_count": null,
   "metadata": {
    "slideshow": {
     "slide_type": "subslide"
    }
   },
   "outputs": [],
   "source": [
    "makeNavGroupPlot('rcaud','pointTotal',normedData)\n"
   ]
  },
  {
   "cell_type": "code",
   "execution_count": null,
   "metadata": {
    "slideshow": {
     "slide_type": "subslide"
    }
   },
   "outputs": [],
   "source": [
    "makeNavGroupPlot('ashs_rhc','sbsod',normedData)\n"
   ]
  },
  {
   "cell_type": "code",
   "execution_count": null,
   "metadata": {
    "slideshow": {
     "slide_type": "subslide"
    }
   },
   "outputs": [],
   "source": [
    "makeNavGroupPlot('ashs_rhc','mrt',normedData)\n"
   ]
  },
  {
   "cell_type": "code",
   "execution_count": null,
   "metadata": {
    "slideshow": {
     "slide_type": "subslide"
    }
   },
   "outputs": [],
   "source": [
    "makeNavGroupPlot('ashs_ant_rhc','pointTotal',normedData)"
   ]
  },
  {
   "cell_type": "code",
   "execution_count": null,
   "metadata": {
    "slideshow": {
     "slide_type": "subslide"
    }
   },
   "outputs": [],
   "source": []
  },
  {
   "cell_type": "code",
   "execution_count": null,
   "metadata": {
    "slideshow": {
     "slide_type": "skip"
    }
   },
   "outputs": [],
   "source": [
    "# ANOVAS on three groups (not on poster)\n",
    "\n",
    "doAnova('ashs_post_rhc',normedData)\n",
    "\n"
   ]
  },
  {
   "cell_type": "code",
   "execution_count": null,
   "metadata": {
    "slideshow": {
     "slide_type": "skip"
    }
   },
   "outputs": [],
   "source": [
    "# additional analyses for control (numbers not on poster)\n",
    "\n",
    "nonannormedData = normedData.dropna()\n",
    "\n",
    "\n",
    "model_fit = ols(\"pointTotal ~ lhc_bodytail * gender * age * cortexVol\", normedData).fit()\n",
    "print(model_fit.summary())\n",
    "\n"
   ]
  },
  {
   "cell_type": "code",
   "execution_count": null,
   "metadata": {
    "slideshow": {
     "slide_type": "skip"
    }
   },
   "outputs": [],
   "source": [
    "# fitted values (need a constant term for intercept)\n",
    "model_fitted_y = model_fit.fittedvalues\n",
    "# model residuals\n",
    "model_residuals = model_fit.resid\n",
    "# normalized residuals\n",
    "model_norm_residuals = model_fit.get_influence().resid_studentized_internal\n",
    "# absolute squared normalized residuals\n",
    "model_norm_residuals_abs_sqrt = np.sqrt(np.abs(model_norm_residuals))\n",
    "# absolute residuals\n",
    "model_abs_resid = np.abs(model_residuals)\n",
    "# leverage, from statsmodels internals\n",
    "model_leverage = model_fit.get_influence().hat_matrix_diag\n",
    "# cook's distance, from statsmodels internals\n",
    "model_cooks = model_fit.get_influence().cooks_distance[0]\n",
    "\n",
    "\n",
    "plot_lm_1 = plt.figure(1)\n",
    "plot_lm_1.set_figheight(8)\n",
    "plot_lm_1.set_figwidth(12)\n",
    "plot_lm_1.axes[0] = sns.residplot(model_fitted_y, 'pointTotal', data=normedData, \n",
    "                          lowess=True, \n",
    "                          scatter_kws={'alpha': 0.5}, \n",
    "                          line_kws={'color': 'red', 'lw': 1, 'alpha': 0.8})\n",
    "plot_lm_1.axes[0].set_title('Residuals vs Fitted')\n",
    "plot_lm_1.axes[0].set_xlabel('Fitted values')\n",
    "plot_lm_1.axes[0].set_ylabel('Residuals')\n",
    "\n",
    "\n",
    "plt.show()\n",
    "\n"
   ]
  },
  {
   "cell_type": "code",
   "execution_count": null,
   "metadata": {
    "code_folding": [
     0
    ],
    "slideshow": {
     "slide_type": "skip"
    }
   },
   "outputs": [],
   "source": [
    "def plot_corr(df,size=10):\n",
    "    '''Function plots a graphical correlation matrix for each pair of columns in the dataframe.\n",
    "\n",
    "    Input:\n",
    "        df: pandas DataFrame\n",
    "        size: vertical and horizontal size of the plot'''\n",
    "    fig = plt.figure(figsize=(size,size))\n",
    "    ax1 = fig.add_subplot(111)\n",
    "    cmap = plt.cm.get_cmap('jet')\n",
    "    a = df.corr()\n",
    "    np.fill_diagonal(a.values,np.nan)\n",
    "    masked_array = np.ma.array (a, mask=np.isnan(a))\n",
    "    cmap.set_bad('black',1.)\n",
    "    ax1.imshow(masked_array, interpolation='nearest', cmap=cmap)\n",
    "    cax = ax1.imshow(a, interpolation=\"nearest\", cmap=cmap)\n",
    "    plt.xticks(range(len(df.columns)), df.columns);\n",
    "    plt.yticks(range(len(df.columns)), df.columns);\n",
    "    print(a)\n",
    "    fig.colorbar(cax)\n",
    "    return a\n",
    "\n",
    "order = [0,19,21,10,11,9,12,13,14,]\n",
    "cols = noOutliers.columns.tolist()\n",
    "\n",
    "mylist = [ cols[i] for i in order]\n",
    "\n",
    "orderedNormedData = noOutliers[mylist]\n",
    "corrMat = plot_corr(orderedNormedData,20)\n",
    "plt.show()\n",
    "\n",
    "#a = noOutliers.corr()\n",
    "#display(a.style.background_gradient())\n",
    "nonanOrderedData = orderedNormedData.dropna()\n",
    "g = sns.clustermap(nonanOrderedData)\n",
    "\n",
    "\"\"\"Index(['brainVol', 'cortexVol', 'lhc', 'rhc', 'lamyg', 'ramyg', 'csf',\n",
    "       'pointBetween', 'pointWithin', 'pointTotal', 'rcaud', 'lcaud', 'sbsod',\n",
    "       'wrat', 'mrt', 'groups', 'age', 'batch', 'gender', 'ashs_rhc',\n",
    "       'ashs_lhc', 'ashs_post_rhc', 'ashs_post_lhc', 'ashs_ant_rhc',\n",
    "       'ashs_ant_lhc', 'ashs_total_hipp', 'ashs_rerc', 'ashs_lerc',\n",
    "       'ashs_lphc', 'ashs_rphc', 'ashs_lbr35', 'ashs_rbr35', 'ashs_lbr36',\n",
    "       'ashs_rbr36'],\"\"\""
   ]
  },
  {
   "cell_type": "code",
   "execution_count": null,
   "metadata": {
    "slideshow": {
     "slide_type": "skip"
    }
   },
   "outputs": [],
   "source": [
    "pwd"
   ]
  }
 ],
 "metadata": {
  "celltoolbar": "Slideshow",
  "kernelspec": {
   "display_name": "Python 3",
   "language": "python",
   "name": "python3"
  },
  "language_info": {
   "codemirror_mode": {
    "name": "ipython",
    "version": 3
   },
   "file_extension": ".py",
   "mimetype": "text/x-python",
   "name": "python",
   "nbconvert_exporter": "python",
   "pygments_lexer": "ipython3",
   "version": "3.6.4"
  },
  "varInspector": {
   "cols": {
    "lenName": 16,
    "lenType": 16,
    "lenVar": 40
   },
   "kernels_config": {
    "python": {
     "delete_cmd_postfix": "",
     "delete_cmd_prefix": "del ",
     "library": "var_list.py",
     "varRefreshCmd": "print(var_dic_list())"
    },
    "r": {
     "delete_cmd_postfix": ") ",
     "delete_cmd_prefix": "rm(",
     "library": "var_list.r",
     "varRefreshCmd": "cat(var_dic_list()) "
    }
   },
   "position": {
    "height": "454px",
    "left": "2713px",
    "right": "20px",
    "top": "188px",
    "width": "352px"
   },
   "types_to_exclude": [
    "module",
    "function",
    "builtin_function_or_method",
    "instance",
    "_Feature"
   ],
   "window_display": true
  }
 },
 "nbformat": 4,
 "nbformat_minor": 2
}
